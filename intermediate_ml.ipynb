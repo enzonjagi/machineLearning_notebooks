{
 "cells": [
  {
   "cell_type": "code",
   "execution_count": null,
   "metadata": {},
   "outputs": [],
   "source": [
    "# A notebook for the intermediate Ml course on Kaggle\n",
    "# This is a notekeeping and practice notebook\n",
    "# TODO \n",
    "'''\n",
    "1. tackle data types often found in real-world datasets (missing values, categorical variables),\n",
    "2. design pipelines to improve the quality of your machine learning code,\n",
    "3. use advanced techniques for model validation (cross-validation),\n",
    "4. build state-of-the-art models that are widely used to win Kaggle competitions (XGBoost), and\n",
    "5. avoid common and important data science mistakes (leakage).\n",
    "'''\n"
   ]
  }
 ],
 "metadata": {
  "language_info": {
   "name": "python"
  },
  "orig_nbformat": 4
 },
 "nbformat": 4,
 "nbformat_minor": 2
}
